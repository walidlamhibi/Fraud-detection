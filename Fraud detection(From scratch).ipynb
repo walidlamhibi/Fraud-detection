{
 "cells": [
  {
   "cell_type": "code",
   "execution_count": 62,
   "metadata": {},
   "outputs": [],
   "source": [
    "import numpy as np\n",
    "import pandas as pd"
   ]
  },
  {
   "cell_type": "code",
   "execution_count": 63,
   "metadata": {},
   "outputs": [],
   "source": [
    "# Initialiser les poids et les biais\n",
    "def initialize_weights(n_features):\n",
    "    weights = np.zeros(n_features)\n",
    "    bias = 0\n",
    "    return weights, bias"
   ]
  },
  {
   "cell_type": "code",
   "execution_count": 64,
   "metadata": {},
   "outputs": [],
   "source": [
    "# Fonction sigmoid\n",
    "def sigmoid(z):\n",
    "    return 1 / (1 + np.exp(-z))"
   ]
  },
  {
   "cell_type": "code",
   "execution_count": 65,
   "metadata": {},
   "outputs": [],
   "source": [
    "# Propagation vers l'avant\n",
    "def forward_propagation(X, weights, bias):\n",
    "    z = np.dot(X, weights) + bias\n",
    "    a = sigmoid(z)\n",
    "    return a"
   ]
  },
  {
   "cell_type": "code",
   "execution_count": 66,
   "metadata": {},
   "outputs": [],
   "source": [
    "# Calcul de la fonction de coût\n",
    "def compute_cost(y, a):\n",
    "    m = y.shape[0]\n",
    "    cost = -(1/m) * np.sum(y * np.log(a) + (1 - y) * np.log(1 - a))\n",
    "    return cost"
   ]
  },
  {
   "cell_type": "code",
   "execution_count": 67,
   "metadata": {},
   "outputs": [],
   "source": [
    "# Rétropropagation pour mettre à jour les poids\n",
    "def backward_propagation(X, y, a):\n",
    "    m = X.shape[0]\n",
    "    dw = (1/m) * np.dot(X.T, (a - y))\n",
    "    db = (1/m) * np.sum(a - y)\n",
    "    return dw, db"
   ]
  },
  {
   "cell_type": "code",
   "execution_count": 68,
   "metadata": {},
   "outputs": [],
   "source": [
    "# Fonction d'entrainement\n",
    "def train_model(X, y, learning_rate, epochs):\n",
    "    n_features = X.shape[1]\n",
    "    weights, bias = initialize_weights(n_features)\n",
    "    for epoch in range(epochs):\n",
    "        a = forward_propagation(X, weights, bias)\n",
    "        cost = compute_cost(y, a)\n",
    "        dw, db = backward_propagation(X, y, a)\n",
    "        weights -= learning_rate * dw\n",
    "        bias -= learning_rate * db\n",
    "        if epoch % 100 == 0:\n",
    "            print(f\"Epoch {epoch}, Cost: {cost}\")\n",
    "    return weights, bias"
   ]
  },
  {
   "cell_type": "code",
   "execution_count": 69,
   "metadata": {},
   "outputs": [],
   "source": [
    "# Prédiction\n",
    "def predict(X, weights, bias):\n",
    "    a = forward_propagation(X, weights, bias)\n",
    "    predictions = (a >= 0.5).astype(int)\n",
    "    return predictions"
   ]
  },
  {
   "cell_type": "code",
   "execution_count": 70,
   "metadata": {},
   "outputs": [],
   "source": [
    "# Charger les données du dataset\n",
    "df = pd.read_csv('creditcard.csv')"
   ]
  },
  {
   "cell_type": "code",
   "execution_count": 71,
   "metadata": {},
   "outputs": [],
   "source": [
    "# Séparer les features et la target\n",
    "X = df.drop(columns=['Class']).values\n",
    "y = df['Class'].values"
   ]
  },
  {
   "cell_type": "code",
   "execution_count": 72,
   "metadata": {},
   "outputs": [],
   "source": [
    "# Rééchantillonnage pour équilibrer les classes\n",
    "def resample_minority_class(df, majority_class_label=0, minority_class_label=1):\n",
    "    df_majority = df[df.Class == majority_class_label]\n",
    "    df_minority = df[df.Class == minority_class_label]\n",
    "\n",
    "    df_minority_upsampled = df_minority.sample(n=len(df_majority), replace=True, random_state=123)\n",
    "    df_upsampled = pd.concat([df_majority, df_minority_upsampled])\n",
    "    return df_upsampled\n",
    "\n",
    "df_upsampled = resample_minority_class(df)\n",
    "\n",
    "X_upsampled = df_upsampled.drop(columns=['Class']).values\n",
    "y_upsampled = df_upsampled['Class'].values"
   ]
  },
  {
   "cell_type": "code",
   "execution_count": 73,
   "metadata": {},
   "outputs": [],
   "source": [
    "# Normalisation manuelle\n",
    "def normalize_data(X):\n",
    "    mean = X.mean(axis=0)\n",
    "    std = X.std(axis=0)\n",
    "    return (X - mean) / std, mean, std\n",
    "\n",
    "X_scaled, mean, std = normalize_data(X_upsampled)"
   ]
  },
  {
   "cell_type": "code",
   "execution_count": 74,
   "metadata": {},
   "outputs": [
    {
     "name": "stdout",
     "output_type": "stream",
     "text": [
      "Epoch 0, Cost: 0.6931471805599453\n",
      "Epoch 100, Cost: 0.38115652559779084\n",
      "Epoch 200, Cost: 0.3323491827345918\n",
      "Epoch 300, Cost: 0.3083241564090983\n",
      "Epoch 400, Cost: 0.29221009464488645\n",
      "Epoch 500, Cost: 0.2799240578451496\n",
      "Epoch 600, Cost: 0.26996094049346836\n",
      "Epoch 700, Cost: 0.26159656817246313\n",
      "Epoch 800, Cost: 0.2544146162729645\n",
      "Epoch 900, Cost: 0.24814669609774412\n"
     ]
    }
   ],
   "source": [
    "# Entraîner le modèle\n",
    "learning_rate = 0.01\n",
    "epochs = 1000\n",
    "weights, bias = train_model(X_scaled, y_upsampled, learning_rate, epochs)"
   ]
  },
  {
   "cell_type": "code",
   "execution_count": 78,
   "metadata": {},
   "outputs": [
    {
     "name": "stdout",
     "output_type": "stream",
     "text": [
      "Résultat prédit : [0]\n",
      "Résultat Réel: 0\n"
     ]
    }
   ],
   "source": [
    "# Exemple de données aléatoire\n",
    "example_data = {\n",
    "    'Time': [0],\n",
    "    'V1': [-1.3598071336738],\n",
    "    'V2': [-0.0727811733098497],\n",
    "    'V3': [2.53634673796914],\n",
    "    'V4': [1.37815522427443],\n",
    "    'V5': [-0.338320769942518],\n",
    "    'V6': [0.462387777762292],\n",
    "    'V7': [0.239598554061257],\n",
    "    'V8': [0.0986979012610507],\n",
    "    'V9': [0.363786969611213],\n",
    "    'V10': [0.0907941719789316],\n",
    "    'V11': [-0.551599533260813],\n",
    "    'V12': [-0.617800855762348],\n",
    "    'V13': [-0.991389847235408],\n",
    "    'V14': [-0.311169353699879],\n",
    "    'V15': [1.46817697209427],\n",
    "    'V16': [-0.470400525259478],\n",
    "    'V17': [0.207971241929242],\n",
    "    'V18': [0.0257905801985591],\n",
    "    'V19': [0.403992960255733],\n",
    "    'V20': [0.251412098239705],\n",
    "    'V21': [-0.018306777944153],\n",
    "    'V22': [0.277837575558899],\n",
    "    'V23': [-0.110473910188767],\n",
    "    'V24': [0.0669280749146731],\n",
    "    'V25': [0.128539358273528],\n",
    "    'V26': [-0.189114843888824],\n",
    "    'V27': [0.133558376740387],\n",
    "    'V28': [-0.0210530534538215],\n",
    "    'Amount': [149.62]\n",
    "}\n",
    "\n",
    "example_df1 = pd.DataFrame(example_data)\n",
    "\n",
    "# Normaliser les données de l'exemple\n",
    "example_data_scaled1 = (example_df1.values - mean) / std\n",
    "\n",
    "# Prédiction sur l'exemple de données\n",
    "example_prediction1 = predict(example_data_scaled1, weights, bias)\n",
    "print(\"Résultat prédit :\", example_prediction1)\n",
    "\n",
    "# Classe réelle de l'exemple de données\n",
    "real_class = 0 \n",
    "print(\"Résultat Réel:\", real_class)"
   ]
  },
  {
   "cell_type": "code",
   "execution_count": 79,
   "metadata": {},
   "outputs": [
    {
     "name": "stdout",
     "output_type": "stream",
     "text": [
      "Résultat prédit : [1]\n",
      "Résultat Réel: 1\n"
     ]
    }
   ],
   "source": [
    "example_data_fraud = {\n",
    "   'Time': [1625],\n",
    "    'V1': [-3.04354179828784],\n",
    "    'V2': [-1.45721281451823],\n",
    "    'V3': [1.21989563118045],\n",
    "    'V4': [-2.09559730272357],\n",
    "    'V5': [0.556647197657646],\n",
    "    'V6': [0.491277853726439],\n",
    "    'V7': [-0.799797511897948],\n",
    "    'V8': [0.258507108401318],\n",
    "    'V9': [-0.725151266778824],\n",
    "    'V10': [0.340982772351712],\n",
    "    'V11': [-0.145783041325102],\n",
    "    'V12': [1.34585159321519],\n",
    "    'V13': [-0.826021053549912],\n",
    "    'V14': [-0.406988311129095],\n",
    "    'V15': [0.917229023243343],\n",
    "    'V16': [-0.742927480721803],\n",
    "    'V17': [0.79163723170772],\n",
    "    'V18': [-0.078804981194764],\n",
    "    'V19': [0.39229220941645],\n",
    "    'V20': [-0.808272589659668],\n",
    "    'V21': [0.318692031652827],\n",
    "    'V22': [0.179530566343613],\n",
    "    'V23': [0.399400481954091],\n",
    "    'V24': [0.487722451768093],\n",
    "    'V25': [-0.198255644212645],\n",
    "    'V26': [0.171114153953174],\n",
    "    'V27': [-0.236811458507738],\n",
    "    'V28': [0.130745060530992],\n",
    "    'Amount': [5000.0]\n",
    "}\n",
    "\n",
    "example_df2 = pd.DataFrame(example_data_fraud)\n",
    "\n",
    "# Normaliser les données de l'exemple\n",
    "example_data_scaled2 = (example_df2.values - mean) / std\n",
    "\n",
    "# Prédiction sur l'exemple de données\n",
    "example_prediction2 = predict(example_data_scaled2, weights, bias)\n",
    "print(\"Résultat prédit :\", example_prediction2)\n",
    "\n",
    "# Classe réelle de l'exemple de données\n",
    "real_class = 1 \n",
    "print(\"Résultat Réel:\", real_class)"
   ]
  },
  {
   "cell_type": "code",
   "execution_count": null,
   "metadata": {},
   "outputs": [],
   "source": []
  }
 ],
 "metadata": {
  "kernelspec": {
   "display_name": "base",
   "language": "python",
   "name": "python3"
  },
  "language_info": {
   "codemirror_mode": {
    "name": "ipython",
    "version": 3
   },
   "file_extension": ".py",
   "mimetype": "text/x-python",
   "name": "python",
   "nbconvert_exporter": "python",
   "pygments_lexer": "ipython3",
   "version": "3.11.5"
  }
 },
 "nbformat": 4,
 "nbformat_minor": 2
}
